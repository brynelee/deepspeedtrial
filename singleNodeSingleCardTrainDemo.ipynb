{
  "nbformat": 4,
  "nbformat_minor": 0,
  "metadata": {
    "colab": {
      "provenance": [],
      "gpuType": "T4",
      "authorship_tag": "ABX9TyO/aY6KW2TdVtJSkAq62T+3",
      "include_colab_link": true
    },
    "kernelspec": {
      "name": "python3",
      "display_name": "Python 3"
    },
    "language_info": {
      "name": "python"
    },
    "accelerator": "GPU"
  },
  "cells": [
    {
      "cell_type": "markdown",
      "metadata": {
        "id": "view-in-github",
        "colab_type": "text"
      },
      "source": [
        "<a href=\"https://colab.research.google.com/github/brynelee/deepspeedtrial/blob/main/singleNodeSingleCardTrainDemo.ipynb\" target=\"_parent\"><img src=\"https://colab.research.google.com/assets/colab-badge.svg\" alt=\"Open In Colab\"/></a>"
      ]
    },
    {
      "cell_type": "code",
      "execution_count": 2,
      "metadata": {
        "colab": {
          "base_uri": "https://localhost:8080/"
        },
        "id": "55E1dpyHPAn4",
        "outputId": "ac62507c-804d-4530-b31d-0f99baecd928"
      },
      "outputs": [
        {
          "output_type": "stream",
          "name": "stdout",
          "text": [
            "Requirement already satisfied: torch in /usr/local/lib/python3.10/dist-packages (2.0.1+cu118)\n",
            "Requirement already satisfied: torchvision in /usr/local/lib/python3.10/dist-packages (0.15.2+cu118)\n",
            "Requirement already satisfied: torchaudio in /usr/local/lib/python3.10/dist-packages (2.0.2+cu118)\n",
            "Requirement already satisfied: filelock in /usr/local/lib/python3.10/dist-packages (from torch) (3.12.2)\n",
            "Requirement already satisfied: typing-extensions in /usr/local/lib/python3.10/dist-packages (from torch) (4.7.1)\n",
            "Requirement already satisfied: sympy in /usr/local/lib/python3.10/dist-packages (from torch) (1.11.1)\n",
            "Requirement already satisfied: networkx in /usr/local/lib/python3.10/dist-packages (from torch) (3.1)\n",
            "Requirement already satisfied: jinja2 in /usr/local/lib/python3.10/dist-packages (from torch) (3.1.2)\n",
            "Requirement already satisfied: triton==2.0.0 in /usr/local/lib/python3.10/dist-packages (from torch) (2.0.0)\n",
            "Requirement already satisfied: cmake in /usr/local/lib/python3.10/dist-packages (from triton==2.0.0->torch) (3.25.2)\n",
            "Requirement already satisfied: lit in /usr/local/lib/python3.10/dist-packages (from triton==2.0.0->torch) (16.0.6)\n",
            "Requirement already satisfied: numpy in /usr/local/lib/python3.10/dist-packages (from torchvision) (1.22.4)\n",
            "Requirement already satisfied: requests in /usr/local/lib/python3.10/dist-packages (from torchvision) (2.27.1)\n",
            "Requirement already satisfied: pillow!=8.3.*,>=5.3.0 in /usr/local/lib/python3.10/dist-packages (from torchvision) (9.4.0)\n",
            "Requirement already satisfied: MarkupSafe>=2.0 in /usr/local/lib/python3.10/dist-packages (from jinja2->torch) (2.1.3)\n",
            "Requirement already satisfied: urllib3<1.27,>=1.21.1 in /usr/local/lib/python3.10/dist-packages (from requests->torchvision) (1.26.16)\n",
            "Requirement already satisfied: certifi>=2017.4.17 in /usr/local/lib/python3.10/dist-packages (from requests->torchvision) (2023.7.22)\n",
            "Requirement already satisfied: charset-normalizer~=2.0.0 in /usr/local/lib/python3.10/dist-packages (from requests->torchvision) (2.0.12)\n",
            "Requirement already satisfied: idna<4,>=2.5 in /usr/local/lib/python3.10/dist-packages (from requests->torchvision) (3.4)\n",
            "Requirement already satisfied: mpmath>=0.19 in /usr/local/lib/python3.10/dist-packages (from sympy->torch) (1.3.0)\n"
          ]
        }
      ],
      "source": [
        "!pip install torch torchvision torchaudio"
      ]
    },
    {
      "cell_type": "markdown",
      "source": [
        "single node single card training"
      ],
      "metadata": {
        "id": "6XfzJHG3PCzj"
      }
    },
    {
      "cell_type": "code",
      "source": [
        "\"\"\"(SNSC) Single Node Single GPU Card Training\"\"\"\n",
        "import torch\n",
        "import torch.nn as nn\n",
        "import torchvision\n",
        "import torchvision.transforms as transforms\n",
        "\n",
        "BATCH_SIZE = 256\n",
        "EPOCHS = 5\n",
        "\n",
        "if __name__ == \"__main__\":\n",
        "\n",
        "# 1. define network\n",
        "    device = \"cuda\"\n",
        "    net = torchvision.models.resnet18(num_classes=10)\n",
        "    net = net.to(device=device)\n",
        "\n",
        "# 2. define dataloader\n",
        "    trainset = torchvision.datasets.CIFAR10(\n",
        "      root=\"./data\",\n",
        "      train=True,\n",
        "      download=True,\n",
        "      transform=transforms.Compose(\n",
        "          [\n",
        "              transforms.RandomCrop(32, padding=4),\n",
        "              transforms.RandomHorizontalFlip(),\n",
        "              transforms.ToTensor(),\n",
        "              transforms.Normalize(\n",
        "                  (0.4914, 0.4822, 0.4465), (0.2023, 0.1994, 0.2010)\n",
        "              ),\n",
        "          ]\n",
        "      ),\n",
        "    )\n",
        "    train_loader = torch.utils.data.DataLoader(\n",
        "        trainset,\n",
        "        batch_size=BATCH_SIZE,\n",
        "        shuffle=True,\n",
        "        num_workers=4,\n",
        "        pin_memory=True,\n",
        "    )\n",
        "\n",
        "# 3. define loss and optimizer\n",
        "    criterion = nn.CrossEntropyLoss()\n",
        "    optimizer = torch.optim.SGD(\n",
        "        net.parameters(),\n",
        "        lr=0.01,\n",
        "        momentum=0.9,\n",
        "        weight_decay=0.0001,\n",
        "        nesterov=True,\n",
        "    )\n",
        "\n",
        "    print(\"            =======  Training  ======= \\n\")\n",
        "# 4. start to train\n",
        "    net.train()\n",
        "    for ep in range(1, EPOCHS + 1):\n",
        "            train_loss = correct = total = 0\n",
        "\n",
        "    for idx, (inputs, targets) in enumerate(train_loader):\n",
        "      inputs, targets = inputs.to(device), targets.to(device)\n",
        "      outputs = net(inputs)\n",
        "\n",
        "      loss = criterion(outputs, targets)\n",
        "      optimizer.zero_grad()\n",
        "      loss.backward()\n",
        "      optimizer.step()\n",
        "\n",
        "      train_loss += loss.item()\n",
        "      total += targets.size(0)\n",
        "      correct += torch.eq(outputs.argmax(dim=1), targets).sum().item()\n",
        "\n",
        "      if (idx + 1) % 10 == 0 or (idx + 1) == len(train_loader):\n",
        "        print(\n",
        "          \"   == step: [{:3}/{}] [{}/{}] | loss: {:.3f} | acc: {:6.3f}%\".format(\n",
        "          idx + 1,\n",
        "          len(train_loader),\n",
        "          ep,\n",
        "          EPOCHS,\n",
        "          train_loss / (idx + 1),\n",
        "          100.0 * correct / total,\n",
        "              )\n",
        "        )\n",
        "\n",
        "    print(\"\\n            =======  Training Finished  ======= \\n\")\n",
        "\n"
      ],
      "metadata": {
        "colab": {
          "base_uri": "https://localhost:8080/"
        },
        "id": "BUsWb3T7PGEZ",
        "outputId": "01090c65-87ed-48f2-b35b-33d7aa0bd3ef"
      },
      "execution_count": 7,
      "outputs": [
        {
          "output_type": "stream",
          "name": "stdout",
          "text": [
            "Files already downloaded and verified\n",
            "            =======  Training  ======= \n",
            "\n",
            "   == step: [ 10/196] [5/5] | loss: 2.313 | acc: 15.938%\n",
            "   == step: [ 20/196] [5/5] | loss: 2.197 | acc: 20.879%\n",
            "   == step: [ 30/196] [5/5] | loss: 2.108 | acc: 23.776%\n",
            "   == step: [ 40/196] [5/5] | loss: 2.046 | acc: 26.191%\n",
            "   == step: [ 50/196] [5/5] | loss: 1.996 | acc: 27.875%\n",
            "   == step: [ 60/196] [5/5] | loss: 1.954 | acc: 29.206%\n",
            "   == step: [ 70/196] [5/5] | loss: 1.919 | acc: 30.352%\n",
            "   == step: [ 80/196] [5/5] | loss: 1.887 | acc: 31.377%\n",
            "   == step: [ 90/196] [5/5] | loss: 1.857 | acc: 32.378%\n",
            "   == step: [100/196] [5/5] | loss: 1.833 | acc: 33.180%\n",
            "   == step: [110/196] [5/5] | loss: 1.811 | acc: 33.860%\n",
            "   == step: [120/196] [5/5] | loss: 1.791 | acc: 34.603%\n",
            "   == step: [130/196] [5/5] | loss: 1.775 | acc: 35.219%\n",
            "   == step: [140/196] [5/5] | loss: 1.757 | acc: 35.742%\n",
            "   == step: [150/196] [5/5] | loss: 1.742 | acc: 36.289%\n",
            "   == step: [160/196] [5/5] | loss: 1.725 | acc: 36.875%\n",
            "   == step: [170/196] [5/5] | loss: 1.710 | acc: 37.433%\n",
            "   == step: [180/196] [5/5] | loss: 1.696 | acc: 37.910%\n",
            "   == step: [190/196] [5/5] | loss: 1.683 | acc: 38.390%\n",
            "   == step: [196/196] [5/5] | loss: 1.676 | acc: 38.634%\n",
            "\n",
            "            =======  Training Finished  ======= \n",
            "\n"
          ]
        }
      ]
    }
  ]
}